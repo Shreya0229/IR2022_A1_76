{
  "cells": [
    {
      "cell_type": "code",
      "source": [
        "import os\n",
        "import nltk\n",
        "import string\n",
        "import numpy as np\n",
        "import pandas as pd\n",
        "from natsort import natsorted"
      ],
      "metadata": {
        "id": "J3A4wykD7hPa"
      },
      "execution_count": null,
      "outputs": []
    },
    {
      "cell_type": "code",
      "execution_count": null,
      "metadata": {
        "id": "TJCmeEJtGkne"
      },
      "outputs": [],
      "source": [
        "import zipfile\n",
        "with zipfile.ZipFile('/content/Humor,Hist,Media,Food.zip', 'r') as zip_ref:\n",
        "    zip_ref.extractall('/content/')"
      ]
    },
    {
      "cell_type": "code",
      "source": [
        "file_names = natsorted(os.listdir('/content/Humor,Hist,Media,Food'))\n",
        "data = []\n",
        "\n",
        "for file_name in file_names:\n",
        "    path = '/content/Humor,Hist,Media,Food/'+file_name\n",
        "    with open(path, 'r', encoding='utf-8', errors='ignore') as f:\n",
        "        temp = {}\n",
        "        temp['name'] = file_name\n",
        "        temp['text'] = f.read()\n",
        "        data.append(temp)\n",
        "\n",
        "df = pd.DataFrame(data)\n",
        "df.head()"
      ],
      "metadata": {
        "colab": {
          "base_uri": "https://localhost:8080/",
          "height": 206
        },
        "id": "Zpo9CxUp6su5",
        "outputId": "27fc02a5-5626-4468-cad5-74301adeac71"
      },
      "execution_count": null,
      "outputs": [
        {
          "output_type": "execute_result",
          "data": {
            "text/html": [
              "\n",
              "  <div id=\"df-6ab82e33-0460-4ca1-9e55-ca5b9a9140b2\">\n",
              "    <div class=\"colab-df-container\">\n",
              "      <div>\n",
              "<style scoped>\n",
              "    .dataframe tbody tr th:only-of-type {\n",
              "        vertical-align: middle;\n",
              "    }\n",
              "\n",
              "    .dataframe tbody tr th {\n",
              "        vertical-align: top;\n",
              "    }\n",
              "\n",
              "    .dataframe thead th {\n",
              "        text-align: right;\n",
              "    }\n",
              "</style>\n",
              "<table border=\"1\" class=\"dataframe\">\n",
              "  <thead>\n",
              "    <tr style=\"text-align: right;\">\n",
              "      <th></th>\n",
              "      <th>name</th>\n",
              "      <th>text</th>\n",
              "    </tr>\n",
              "  </thead>\n",
              "  <tbody>\n",
              "    <tr>\n",
              "      <th>0</th>\n",
              "      <td>1st_aid.txt</td>\n",
              "      <td>HERBALHERB1ST AIDCALENDULACOMFREYREMEDIESSICKM...</td>\n",
              "    </tr>\n",
              "    <tr>\n",
              "      <th>1</th>\n",
              "      <td>a-team</td>\n",
              "      <td>From uunet!cs.utexas.edu!usc!ucsd!ucbvax!CAE.W...</td>\n",
              "    </tr>\n",
              "    <tr>\n",
              "      <th>2</th>\n",
              "      <td>a_fish_c.apo</td>\n",
              "      <td>From: murph@buscard.fidonet.org (Brian Murphy)...</td>\n",
              "    </tr>\n",
              "    <tr>\n",
              "      <th>3</th>\n",
              "      <td>a_tv_t-p.com</td>\n",
              "      <td>____________________________________________\\n...</td>\n",
              "    </tr>\n",
              "    <tr>\n",
              "      <th>4</th>\n",
              "      <td>abbott.txt</td>\n",
              "      <td>\\n                              Abbott &amp; Coste...</td>\n",
              "    </tr>\n",
              "  </tbody>\n",
              "</table>\n",
              "</div>\n",
              "      <button class=\"colab-df-convert\" onclick=\"convertToInteractive('df-6ab82e33-0460-4ca1-9e55-ca5b9a9140b2')\"\n",
              "              title=\"Convert this dataframe to an interactive table.\"\n",
              "              style=\"display:none;\">\n",
              "        \n",
              "  <svg xmlns=\"http://www.w3.org/2000/svg\" height=\"24px\"viewBox=\"0 0 24 24\"\n",
              "       width=\"24px\">\n",
              "    <path d=\"M0 0h24v24H0V0z\" fill=\"none\"/>\n",
              "    <path d=\"M18.56 5.44l.94 2.06.94-2.06 2.06-.94-2.06-.94-.94-2.06-.94 2.06-2.06.94zm-11 1L8.5 8.5l.94-2.06 2.06-.94-2.06-.94L8.5 2.5l-.94 2.06-2.06.94zm10 10l.94 2.06.94-2.06 2.06-.94-2.06-.94-.94-2.06-.94 2.06-2.06.94z\"/><path d=\"M17.41 7.96l-1.37-1.37c-.4-.4-.92-.59-1.43-.59-.52 0-1.04.2-1.43.59L10.3 9.45l-7.72 7.72c-.78.78-.78 2.05 0 2.83L4 21.41c.39.39.9.59 1.41.59.51 0 1.02-.2 1.41-.59l7.78-7.78 2.81-2.81c.8-.78.8-2.07 0-2.86zM5.41 20L4 18.59l7.72-7.72 1.47 1.35L5.41 20z\"/>\n",
              "  </svg>\n",
              "      </button>\n",
              "      \n",
              "  <style>\n",
              "    .colab-df-container {\n",
              "      display:flex;\n",
              "      flex-wrap:wrap;\n",
              "      gap: 12px;\n",
              "    }\n",
              "\n",
              "    .colab-df-convert {\n",
              "      background-color: #E8F0FE;\n",
              "      border: none;\n",
              "      border-radius: 50%;\n",
              "      cursor: pointer;\n",
              "      display: none;\n",
              "      fill: #1967D2;\n",
              "      height: 32px;\n",
              "      padding: 0 0 0 0;\n",
              "      width: 32px;\n",
              "    }\n",
              "\n",
              "    .colab-df-convert:hover {\n",
              "      background-color: #E2EBFA;\n",
              "      box-shadow: 0px 1px 2px rgba(60, 64, 67, 0.3), 0px 1px 3px 1px rgba(60, 64, 67, 0.15);\n",
              "      fill: #174EA6;\n",
              "    }\n",
              "\n",
              "    [theme=dark] .colab-df-convert {\n",
              "      background-color: #3B4455;\n",
              "      fill: #D2E3FC;\n",
              "    }\n",
              "\n",
              "    [theme=dark] .colab-df-convert:hover {\n",
              "      background-color: #434B5C;\n",
              "      box-shadow: 0px 1px 3px 1px rgba(0, 0, 0, 0.15);\n",
              "      filter: drop-shadow(0px 1px 2px rgba(0, 0, 0, 0.3));\n",
              "      fill: #FFFFFF;\n",
              "    }\n",
              "  </style>\n",
              "\n",
              "      <script>\n",
              "        const buttonEl =\n",
              "          document.querySelector('#df-6ab82e33-0460-4ca1-9e55-ca5b9a9140b2 button.colab-df-convert');\n",
              "        buttonEl.style.display =\n",
              "          google.colab.kernel.accessAllowed ? 'block' : 'none';\n",
              "\n",
              "        async function convertToInteractive(key) {\n",
              "          const element = document.querySelector('#df-6ab82e33-0460-4ca1-9e55-ca5b9a9140b2');\n",
              "          const dataTable =\n",
              "            await google.colab.kernel.invokeFunction('convertToInteractive',\n",
              "                                                     [key], {});\n",
              "          if (!dataTable) return;\n",
              "\n",
              "          const docLinkHtml = 'Like what you see? Visit the ' +\n",
              "            '<a target=\"_blank\" href=https://colab.research.google.com/notebooks/data_table.ipynb>data table notebook</a>'\n",
              "            + ' to learn more about interactive tables.';\n",
              "          element.innerHTML = '';\n",
              "          dataTable['output_type'] = 'display_data';\n",
              "          await google.colab.output.renderOutput(dataTable, element);\n",
              "          const docLink = document.createElement('div');\n",
              "          docLink.innerHTML = docLinkHtml;\n",
              "          element.appendChild(docLink);\n",
              "        }\n",
              "      </script>\n",
              "    </div>\n",
              "  </div>\n",
              "  "
            ],
            "text/plain": [
              "           name                                               text\n",
              "0   1st_aid.txt  HERBALHERB1ST AIDCALENDULACOMFREYREMEDIESSICKM...\n",
              "1        a-team  From uunet!cs.utexas.edu!usc!ucsd!ucbvax!CAE.W...\n",
              "2  a_fish_c.apo  From: murph@buscard.fidonet.org (Brian Murphy)...\n",
              "3  a_tv_t-p.com  ____________________________________________\\n...\n",
              "4    abbott.txt  \\n                              Abbott & Coste..."
            ]
          },
          "metadata": {},
          "execution_count": 3
        }
      ]
    },
    {
      "cell_type": "code",
      "source": [
        "import nltk\n",
        "\n",
        "nltk.download('stopwords')\n",
        "nltk.download('wordnet')\n",
        "nltk.download('punkt')"
      ],
      "metadata": {
        "colab": {
          "base_uri": "https://localhost:8080/"
        },
        "id": "FNmxF6l98yoE",
        "outputId": "ff10ca18-ad64-4b8c-e71c-f6f7ecde0597"
      },
      "execution_count": null,
      "outputs": [
        {
          "output_type": "stream",
          "name": "stdout",
          "text": [
            "[nltk_data] Downloading package stopwords to /root/nltk_data...\n",
            "[nltk_data]   Package stopwords is already up-to-date!\n",
            "[nltk_data] Downloading package wordnet to /root/nltk_data...\n",
            "[nltk_data]   Package wordnet is already up-to-date!\n",
            "[nltk_data] Downloading package punkt to /root/nltk_data...\n",
            "[nltk_data]   Package punkt is already up-to-date!\n"
          ]
        },
        {
          "output_type": "execute_result",
          "data": {
            "text/plain": [
              "True"
            ]
          },
          "metadata": {},
          "execution_count": 4
        }
      ]
    },
    {
      "cell_type": "code",
      "source": [
        "import re\n",
        "import numpy as np\n",
        "from tqdm import tqdm\n",
        "from nltk import pos_tag\n",
        "from nltk.corpus import stopwords\n",
        "from nltk.stem import PorterStemmer\n",
        "from nltk.tokenize import word_tokenize\n",
        "from nltk.stem.wordnet import WordNetLemmatizer\n",
        "\n",
        "cachedStopWords = stopwords.words(\"english\")"
      ],
      "metadata": {
        "id": "8T5Xz59P8rMJ"
      },
      "execution_count": null,
      "outputs": []
    },
    {
      "cell_type": "code",
      "source": [
        "# References: https://williamscott701.medium.com/information-retrieval-unigram-postings-and-positional-postings-a28b907c4e8\n",
        "def convert_lower_case(data):\n",
        "    return np.char.lower(data)\n",
        "\n",
        "def remove_punctuation(data):\n",
        "    symbols = \"\"\"˛şË›ÃºÅŸ§ż±ŕ\bőíä°üß!\"#$%&\\'()*+,-./:;<=>?@[\\\\]^_`{|}~ \\t\\n\\r\\x0b\\x0c\"\"\"\n",
        "    for i in range(len(symbols)):\n",
        "        data = np.char.replace(data, symbols[i], ' ')\n",
        "        data = np.char.replace(data, \"  \", \" \")\n",
        "    data = np.char.replace(data, ',', '')\n",
        "    return data\n",
        "\n",
        "def remove_stop_words(data):\n",
        "    words = word_tokenize(str(data))\n",
        "    res = ' '.join([word for word in words if word not in cachedStopWords])\n",
        "    return np.char.strip(res)\n",
        "\n",
        "def lemmatization(data):\n",
        "    lemmatizer = WordNetLemmatizer()\n",
        "    \n",
        "    tokens = word_tokenize(str(data))\n",
        "    new_text = \"\"\n",
        "    for w in tokens:\n",
        "        new_text = new_text + \" \" + lemmatizer.lemmatize(w)\n",
        "    return np.char.strip(new_text)\n",
        "\n",
        "def preprocess(data):\n",
        "    data = convert_lower_case(data)\n",
        "    data = remove_punctuation(data)\n",
        "    data = remove_stop_words(data)\n",
        "    data = lemmatization(data)\n",
        "    return data"
      ],
      "metadata": {
        "id": "ANC8AHcf76T6"
      },
      "execution_count": null,
      "outputs": []
    },
    {
      "cell_type": "code",
      "source": [
        "def clean_text(data_df):\n",
        "    for index, row in tqdm(data_df.iterrows(), total=data_df.shape[0]):\n",
        "        sample = row['text']\n",
        "        data_df.loc[index, 'text'] = str(preprocess(sample))\n",
        "    return data_df\n",
        "\n",
        "df = clean_text(df.copy())\n",
        "df.head()"
      ],
      "metadata": {
        "colab": {
          "base_uri": "https://localhost:8080/",
          "height": 223
        },
        "id": "VkHhV-r08bh2",
        "outputId": "0cdcc97c-0268-4b87-9b64-348720a09a99"
      },
      "execution_count": null,
      "outputs": [
        {
          "output_type": "stream",
          "name": "stderr",
          "text": [
            "100%|██████████| 1133/1133 [00:39<00:00, 28.66it/s]\n"
          ]
        },
        {
          "output_type": "execute_result",
          "data": {
            "text/html": [
              "\n",
              "  <div id=\"df-0f9fd5ca-572f-453a-addd-33b347cb08df\">\n",
              "    <div class=\"colab-df-container\">\n",
              "      <div>\n",
              "<style scoped>\n",
              "    .dataframe tbody tr th:only-of-type {\n",
              "        vertical-align: middle;\n",
              "    }\n",
              "\n",
              "    .dataframe tbody tr th {\n",
              "        vertical-align: top;\n",
              "    }\n",
              "\n",
              "    .dataframe thead th {\n",
              "        text-align: right;\n",
              "    }\n",
              "</style>\n",
              "<table border=\"1\" class=\"dataframe\">\n",
              "  <thead>\n",
              "    <tr style=\"text-align: right;\">\n",
              "      <th></th>\n",
              "      <th>name</th>\n",
              "      <th>text</th>\n",
              "    </tr>\n",
              "  </thead>\n",
              "  <tbody>\n",
              "    <tr>\n",
              "      <th>0</th>\n",
              "      <td>1st_aid.txt</td>\n",
              "      <td>herbalherb1st aidcalendulacomfreyremediessickm...</td>\n",
              "    </tr>\n",
              "    <tr>\n",
              "      <th>1</th>\n",
              "      <td>a-team</td>\n",
              "      <td>uunet c utexas edu usc ucsd ucbvax cae wisc ed...</td>\n",
              "    </tr>\n",
              "    <tr>\n",
              "      <th>2</th>\n",
              "      <td>a_fish_c.apo</td>\n",
              "      <td>murph buscard fidonet org brian murphy subject...</td>\n",
              "    </tr>\n",
              "    <tr>\n",
              "      <th>3</th>\n",
              "      <td>a_tv_t-p.com</td>\n",
              "      <td>survey result computer use fan alt tv twin pea...</td>\n",
              "    </tr>\n",
              "    <tr>\n",
              "      <th>4</th>\n",
              "      <td>abbott.txt</td>\n",
              "      <td>abbott costello first abbott well costello goi...</td>\n",
              "    </tr>\n",
              "  </tbody>\n",
              "</table>\n",
              "</div>\n",
              "      <button class=\"colab-df-convert\" onclick=\"convertToInteractive('df-0f9fd5ca-572f-453a-addd-33b347cb08df')\"\n",
              "              title=\"Convert this dataframe to an interactive table.\"\n",
              "              style=\"display:none;\">\n",
              "        \n",
              "  <svg xmlns=\"http://www.w3.org/2000/svg\" height=\"24px\"viewBox=\"0 0 24 24\"\n",
              "       width=\"24px\">\n",
              "    <path d=\"M0 0h24v24H0V0z\" fill=\"none\"/>\n",
              "    <path d=\"M18.56 5.44l.94 2.06.94-2.06 2.06-.94-2.06-.94-.94-2.06-.94 2.06-2.06.94zm-11 1L8.5 8.5l.94-2.06 2.06-.94-2.06-.94L8.5 2.5l-.94 2.06-2.06.94zm10 10l.94 2.06.94-2.06 2.06-.94-2.06-.94-.94-2.06-.94 2.06-2.06.94z\"/><path d=\"M17.41 7.96l-1.37-1.37c-.4-.4-.92-.59-1.43-.59-.52 0-1.04.2-1.43.59L10.3 9.45l-7.72 7.72c-.78.78-.78 2.05 0 2.83L4 21.41c.39.39.9.59 1.41.59.51 0 1.02-.2 1.41-.59l7.78-7.78 2.81-2.81c.8-.78.8-2.07 0-2.86zM5.41 20L4 18.59l7.72-7.72 1.47 1.35L5.41 20z\"/>\n",
              "  </svg>\n",
              "      </button>\n",
              "      \n",
              "  <style>\n",
              "    .colab-df-container {\n",
              "      display:flex;\n",
              "      flex-wrap:wrap;\n",
              "      gap: 12px;\n",
              "    }\n",
              "\n",
              "    .colab-df-convert {\n",
              "      background-color: #E8F0FE;\n",
              "      border: none;\n",
              "      border-radius: 50%;\n",
              "      cursor: pointer;\n",
              "      display: none;\n",
              "      fill: #1967D2;\n",
              "      height: 32px;\n",
              "      padding: 0 0 0 0;\n",
              "      width: 32px;\n",
              "    }\n",
              "\n",
              "    .colab-df-convert:hover {\n",
              "      background-color: #E2EBFA;\n",
              "      box-shadow: 0px 1px 2px rgba(60, 64, 67, 0.3), 0px 1px 3px 1px rgba(60, 64, 67, 0.15);\n",
              "      fill: #174EA6;\n",
              "    }\n",
              "\n",
              "    [theme=dark] .colab-df-convert {\n",
              "      background-color: #3B4455;\n",
              "      fill: #D2E3FC;\n",
              "    }\n",
              "\n",
              "    [theme=dark] .colab-df-convert:hover {\n",
              "      background-color: #434B5C;\n",
              "      box-shadow: 0px 1px 3px 1px rgba(0, 0, 0, 0.15);\n",
              "      filter: drop-shadow(0px 1px 2px rgba(0, 0, 0, 0.3));\n",
              "      fill: #FFFFFF;\n",
              "    }\n",
              "  </style>\n",
              "\n",
              "      <script>\n",
              "        const buttonEl =\n",
              "          document.querySelector('#df-0f9fd5ca-572f-453a-addd-33b347cb08df button.colab-df-convert');\n",
              "        buttonEl.style.display =\n",
              "          google.colab.kernel.accessAllowed ? 'block' : 'none';\n",
              "\n",
              "        async function convertToInteractive(key) {\n",
              "          const element = document.querySelector('#df-0f9fd5ca-572f-453a-addd-33b347cb08df');\n",
              "          const dataTable =\n",
              "            await google.colab.kernel.invokeFunction('convertToInteractive',\n",
              "                                                     [key], {});\n",
              "          if (!dataTable) return;\n",
              "\n",
              "          const docLinkHtml = 'Like what you see? Visit the ' +\n",
              "            '<a target=\"_blank\" href=https://colab.research.google.com/notebooks/data_table.ipynb>data table notebook</a>'\n",
              "            + ' to learn more about interactive tables.';\n",
              "          element.innerHTML = '';\n",
              "          dataTable['output_type'] = 'display_data';\n",
              "          await google.colab.output.renderOutput(dataTable, element);\n",
              "          const docLink = document.createElement('div');\n",
              "          docLink.innerHTML = docLinkHtml;\n",
              "          element.appendChild(docLink);\n",
              "        }\n",
              "      </script>\n",
              "    </div>\n",
              "  </div>\n",
              "  "
            ],
            "text/plain": [
              "           name                                               text\n",
              "0   1st_aid.txt  herbalherb1st aidcalendulacomfreyremediessickm...\n",
              "1        a-team  uunet c utexas edu usc ucsd ucbvax cae wisc ed...\n",
              "2  a_fish_c.apo  murph buscard fidonet org brian murphy subject...\n",
              "3  a_tv_t-p.com  survey result computer use fan alt tv twin pea...\n",
              "4    abbott.txt  abbott costello first abbott well costello goi..."
            ]
          },
          "metadata": {},
          "execution_count": 7
        }
      ]
    },
    {
      "cell_type": "code",
      "source": [
        "df.to_csv('cleaned_data.csv', index=False)"
      ],
      "metadata": {
        "id": "HvmbwfNchHU0"
      },
      "execution_count": null,
      "outputs": []
    },
    {
      "cell_type": "code",
      "source": [
        "postings = {}\n",
        "\n",
        "for index, row in tqdm(df.iterrows(), total=df.shape[0]):\n",
        "    tokens = word_tokenize(str(row['text']))\n",
        "    for token in tokens:\n",
        "        if token in postings:\n",
        "            postings[token].add(index)\n",
        "        else:\n",
        "            postings[token] = {index}"
      ],
      "metadata": {
        "colab": {
          "base_uri": "https://localhost:8080/"
        },
        "id": "rJita9hQFf63",
        "outputId": "daa611f2-50a7-4419-a31b-0dc130605b89"
      },
      "execution_count": null,
      "outputs": [
        {
          "output_type": "stream",
          "name": "stderr",
          "text": [
            "100%|██████████| 1133/1133 [00:06<00:00, 186.49it/s]\n"
          ]
        }
      ]
    },
    {
      "cell_type": "code",
      "source": [
        "len(postings)"
      ],
      "metadata": {
        "id": "XI7C2QdDFw4a",
        "outputId": "bf550a8e-9a37-445f-a592-69c05f792ba7",
        "colab": {
          "base_uri": "https://localhost:8080/"
        }
      },
      "execution_count": null,
      "outputs": [
        {
          "output_type": "execute_result",
          "data": {
            "text/plain": [
              "64226"
            ]
          },
          "metadata": {},
          "execution_count": 10
        }
      ]
    },
    {
      "cell_type": "code",
      "source": [
        "def not_func(word):\n",
        "    a = postings[word]\n",
        "    b = set(range(1133))\n",
        "    return b.difference(a), len(a)\n",
        "\n",
        "def and_func(a, b):\n",
        "    return a.intersection(b)\n",
        "\n",
        "def or_func(a, b):\n",
        "    return a.union(b)\n",
        "\n",
        "def rem_not_query(query_words, commands):\n",
        "    tup = []\n",
        "    comparisons = 0\n",
        "    while 'not' in commands:\n",
        "        i = commands.index('not')\n",
        "        word = query_words[i]\n",
        "        word_postings, comparison = not_func(word)\n",
        "        tup.append(word_postings)\n",
        "        commands.pop(i)\n",
        "        query_words[i] = None\n",
        "    return tup, comparisons\n",
        "\n",
        "def process_query(query_words, commands, tup):\n",
        "    if query_words[0] in postings:\n",
        "        a = postings[query_words[0]]\n",
        "    else:\n",
        "        a = set()\n",
        "\n",
        "    query_words.pop(0)\n",
        "    if len(query_words)==0:\n",
        "        return a, 0\n",
        "\n",
        "    comparisons = 0\n",
        "    for i in range(len(commands)):\n",
        "        if query_words[i] is None:\n",
        "            b = tup.pop(0)\n",
        "        else:\n",
        "            if query_words[i] in postings:\n",
        "                b = postings[query_words[i]]\n",
        "            else:\n",
        "                b = set()\n",
        "\n",
        "        if commands[i] == 'and':\n",
        "            a = and_func(a, b)\n",
        "            comparisons += min(len(a), len(b))\n",
        "        elif commands[i] == 'or':\n",
        "            a = or_func(a, b)\n",
        "            comparisons += min(len(a), len(b))\n",
        "\n",
        "    return sorted(a), comparisons\n",
        "\n",
        "def execute_query(query, operation_seq):\n",
        "    query = preprocess(query)\n",
        "    query_words = word_tokenize(str(query))\n",
        "\n",
        "    operation_seq = [x.lower() for x in operation_seq]\n",
        "\n",
        "    commands = []\n",
        "    for i in operation_seq:\n",
        "        commands += i.split(' ')\n",
        "\n",
        "    tup, comparison1 = rem_not_query(query_words, commands)\n",
        "    final_set, comparison2 = process_query(query_words, commands, tup)\n",
        "    \n",
        "    print(f'Documents: {final_set}')\n",
        "    print(f'Number of documents matched: {len(final_set)}')\n",
        "    print(f'No. of comparisons required: {comparison1+comparison2}')\n",
        "    return list(final_set)"
      ],
      "metadata": {
        "id": "HPGtteJdlo7C"
      },
      "execution_count": null,
      "outputs": []
    },
    {
      "cell_type": "code",
      "source": [
        "query = \"lion stood thoughtfully for a moment\"\n",
        "command = ['OR', 'OR', 'OR']\n",
        "lists = execute_query(query, command)"
      ],
      "metadata": {
        "colab": {
          "base_uri": "https://localhost:8080/"
        },
        "id": "r5kBfNDHNdpV",
        "outputId": "24abd962-d661-4b59-fd56-530773f5914c"
      },
      "execution_count": null,
      "outputs": [
        {
          "output_type": "stream",
          "name": "stdout",
          "text": [
            "Documents: [3, 20, 31, 33, 37, 39, 40, 56, 67, 72, 83, 88, 91, 105, 116, 127, 135, 137, 169, 171, 173, 176, 177, 180, 184, 190, 191, 192, 209, 212, 218, 222, 223, 225, 231, 241, 246, 248, 250, 252, 256, 265, 269, 278, 285, 286, 287, 291, 295, 299, 308, 315, 318, 321, 322, 328, 337, 339, 344, 348, 351, 352, 353, 354, 361, 368, 376, 379, 391, 403, 413, 418, 424, 429, 437, 440, 441, 450, 451, 461, 479, 501, 506, 510, 511, 512, 519, 520, 526, 527, 529, 533, 540, 541, 555, 556, 576, 579, 582, 583, 589, 590, 592, 595, 596, 597, 602, 610, 616, 617, 619, 623, 624, 630, 634, 635, 640, 643, 644, 655, 656, 658, 663, 669, 671, 672, 682, 685, 688, 689, 692, 694, 695, 704, 705, 707, 708, 710, 713, 714, 724, 745, 748, 749, 752, 753, 762, 771, 772, 777, 781, 782, 783, 785, 791, 799, 806, 812, 813, 814, 815, 816, 817, 822, 824, 836, 837, 838, 842, 846, 850, 854, 855, 859, 867, 889, 911, 921, 925, 931, 947, 949, 952, 955, 956, 975, 978, 981, 982, 985, 988, 1010, 1020, 1028, 1029, 1031, 1032, 1034, 1036, 1040, 1058, 1065, 1069, 1075, 1076, 1078, 1082, 1093, 1096, 1109, 1120]\n",
            "Number of documents matched: 211\n",
            "No. of comparisons required: 230\n"
          ]
        }
      ]
    },
    {
      "cell_type": "code",
      "source": [
        "np.array(df.iloc[lists]['name'])"
      ],
      "metadata": {
        "colab": {
          "base_uri": "https://localhost:8080/"
        },
        "id": "8gnTMrCYgYPZ",
        "outputId": "810f0352-4eee-491a-f915-4966311e975b"
      },
      "execution_count": null,
      "outputs": [
        {
          "output_type": "execute_result",
          "data": {
            "text/plain": [
              "array(['a_tv_t-p.com', 'aeonint.txt', 'allusion', 'ambrose.bie',\n",
              "       'anim_lif.txt', 'anime.lif', 'annoy.fascist', 'art-fart.hum',\n",
              "       'b-2.jok', 'badday.hum', 'barney.txt', 'bbh_intv.txt', 'beauty.tm',\n",
              "       'beesherb.txt', 'bitnet.txt', 'bmdn01.txt', 'boneles2.txt',\n",
              "       'booze1.fun', 'butwrong.hum', 'bw-phwan.hat', 'bw.txt',\n",
              "       'cabbage.txt', 'caesardr.sal', 'calculus.txt', 'candy.txt',\n",
              "       'cartoon.law', 'cartoon.laws', 'cartoon_.txt',\n",
              "       'chickenheadbbs.txt', 'childhoo.jok', 'christop.int', 'clancy.txt',\n",
              "       'classicm.hum', 'cmu.share', 'cogdis.txt', 'collected_quotes.txt',\n",
              "       'commutin.jok', 'computer.txt', 'conan.txt', 'consp.txt',\n",
              "       'cookie.1', 'coyote.txt', 'cuchy.hum', 'cybrtrsh.txt', 'dead3.txt',\n",
              "       'dead4.txt', 'dead5.txt', 'deep.txt', 'devils.jok', 'dingding.hum',\n",
              "       'doggun.sto', 'drinks.gui', 'dromes.txt', 'drunk.txt',\n",
              "       'dthought.txt', 'econridl.fun', 'engineer.hum', 'english.txt',\n",
              "       'epi_.txt', 'epi_tton.txt', 'episimp2.txt', 'epitaph',\n",
              "       'eskimo.nel', 'exam.50', 'facedeth.txt', 'fascist.txt',\n",
              "       'female.jok', 'filmgoof.txt', 'flux_fix.txt', 'fuckyou2.txt',\n",
              "       'gas.txt', 'gd_gal.txt', 'gd_ql.txt', 'ghostfun.hum', 'golnar.txt',\n",
              "       'gown.txt', 'grail.txt', 'hackingcracking.txt', 'hackmorality.txt',\n",
              "       'hecomes.jok', 'homebrew.txt', 'humor9.txt', 'idr2.txt',\n",
              "       'incarhel.hum', 'indgrdn.txt', 'initials.rid', 'insult.lst',\n",
              "       'insults1.txt', 'iremember', 'is_story.txt', 'ivan.hum',\n",
              "       'japantv.txt', 'jayjay.txt', 'jc-elvis.inf', 'kaboom.hum',\n",
              "       'kanalx.txt', 'lawyer.jok', 'lbinter.hum', 'let.go', 'letgosh.txt',\n",
              "       'lif&love.hum', 'lifeimag.hum', 'lifeonledge.txt', 'lion.jok',\n",
              "       'lion.txt', 'lions.cat', 'llong.hum', 'lozerzon.hum',\n",
              "       'luggage.hum', 'luvstory.txt', 'm0dzmen.hum', 'maecenas.hum',\n",
              "       'mailfrag.hum', 'manners.txt', 'marriage.hum', 'mash.hum',\n",
              "       'mcd.txt', 'meinkamp.hum', 'mel.txt', 'mindvox', 'minn.txt',\n",
              "       'misc.1', 'mlverb.hum', 'montpyth.hum', 'moore.txt', 'moose.txt',\n",
              "       'msorrow', 'mundane.v2', 'murphy_l.txt', 'murphys.txt',\n",
              "       'myheart.hum', 'namaste.txt', 'nameisreo.txt', 'news.hum',\n",
              "       'nigel10.txt', 'nigel.2', 'nigel.3', 'nigel.5', 'nigel.10',\n",
              "       'nihgel_8.9', 'nukewar.txt', 'oldeng.hum', 'oliver02.txt',\n",
              "       'oliver.txt', 'onetoone.hum', 'onetotwo.hum', 'oxymoron.jok',\n",
              "       'passage.hum', 'passenge.sim', 'peatchp.hum', 'pepper.txt',\n",
              "       'pepsideg.txt', 'petshop', 'phorse.hum', 'pizzawho.hum',\n",
              "       'policpig.hum', 'popmusi.hum', 'prac1.jok', 'prac2.jok',\n",
              "       'prac3.jok', 'prac4.jok', 'pracjoke.txt', 'practica.txt',\n",
              "       'pro-fact.hum', 'progrs.gph', 'psych_pr.quo', 'psycho.txt',\n",
              "       'pukeprom.jok', 'puzzles.jok', 'quack26.txt', 'quest.hum',\n",
              "       'quotes.txt', 'quux_p.oem', 'radiolaf.hum', 'reasons.txt',\n",
              "       'reeves.txt', 'rns_ency.txt', 'scratchy.txt', 'sfmovie.txt',\n",
              "       'shuttleb.hum', 'smurfkil.hum', 'snapple.rum', 'socecon.hum',\n",
              "       'solders.hum', 'soleleer.hum', 'stone.hum', 'strine.txt',\n",
              "       'stuf10.txt', 'stuf11.txt', 'suicide2.txt', 'sw_err.txt',\n",
              "       \"terrmcd'.hum\", 'tfepisod.hum', 'three.txt', 'throwawa.hum',\n",
              "       'timetr.hum', 'tnd.1', 'top10.txt', 'top10st2.txt', 'tpquotes.txt',\n",
              "       'ukunderg.txt', 'valujet.txt', 'various.txt', 'vonthomp',\n",
              "       'wacky.ani', 'wagon.hum', 'wedding.hum', 'whoops.hum',\n",
              "       'wimptest.txt', 'worldend.hum', 'xibovac.txt'], dtype=object)"
            ]
          },
          "metadata": {},
          "execution_count": 47
        }
      ]
    },
    {
      "cell_type": "code",
      "source": [
        "query = \"telephone,paved, roads\"\n",
        "command = ['OR NOT', 'AND NOT']\n",
        "lists = execute_query(query, command)"
      ],
      "metadata": {
        "colab": {
          "base_uri": "https://localhost:8080/"
        },
        "id": "JVXfcdsclyOG",
        "outputId": "9fb6136d-b6b5-41d0-e1d7-83cf5fcd0af7"
      },
      "execution_count": null,
      "outputs": [
        {
          "output_type": "stream",
          "name": "stdout",
          "text": [
            "Documents: [0, 2, 3, 4, 6, 8, 10, 12, 13, 14, 15, 16, 17, 18, 19, 20, 21, 22, 24, 25, 26, 27, 28, 29, 31, 33, 34, 35, 36, 37, 39, 40, 41, 42, 43, 44, 45, 46, 47, 48, 49, 50, 51, 52, 53, 54, 55, 56, 57, 59, 60, 61, 62, 63, 64, 65, 66, 67, 68, 69, 70, 71, 72, 73, 74, 75, 76, 77, 78, 79, 80, 81, 82, 84, 85, 86, 87, 89, 90, 92, 93, 94, 95, 96, 97, 98, 99, 100, 101, 102, 103, 104, 105, 106, 107, 108, 109, 110, 111, 112, 113, 114, 115, 118, 119, 120, 121, 122, 123, 124, 125, 126, 127, 128, 131, 132, 133, 134, 136, 137, 138, 139, 140, 141, 142, 143, 144, 146, 147, 148, 149, 151, 152, 153, 154, 155, 156, 157, 158, 159, 160, 161, 162, 163, 164, 165, 166, 167, 168, 169, 170, 171, 172, 173, 174, 175, 176, 177, 178, 179, 180, 181, 182, 183, 185, 186, 187, 190, 191, 192, 193, 194, 195, 196, 197, 198, 199, 200, 201, 202, 203, 204, 205, 206, 207, 208, 209, 210, 211, 212, 213, 214, 215, 216, 217, 218, 219, 220, 221, 222, 223, 224, 225, 226, 227, 228, 229, 230, 231, 232, 233, 234, 235, 236, 237, 238, 239, 240, 242, 243, 244, 248, 249, 250, 251, 253, 254, 255, 257, 258, 259, 260, 261, 262, 263, 264, 265, 266, 267, 268, 270, 271, 272, 274, 275, 276, 277, 278, 279, 280, 281, 282, 283, 286, 288, 289, 290, 291, 292, 293, 294, 295, 296, 297, 298, 299, 302, 305, 306, 307, 308, 309, 310, 311, 312, 313, 314, 316, 318, 319, 320, 321, 322, 324, 325, 326, 327, 328, 329, 330, 331, 332, 333, 334, 335, 336, 337, 338, 339, 340, 341, 342, 346, 347, 348, 349, 350, 351, 352, 353, 354, 355, 358, 359, 360, 361, 362, 363, 364, 365, 366, 367, 368, 369, 370, 371, 372, 374, 375, 376, 377, 378, 381, 382, 383, 384, 385, 386, 387, 388, 389, 390, 392, 393, 394, 395, 396, 397, 398, 399, 400, 402, 403, 404, 405, 406, 407, 408, 409, 410, 411, 412, 413, 415, 416, 417, 418, 419, 420, 421, 422, 423, 425, 427, 428, 429, 430, 431, 432, 433, 434, 435, 436, 437, 438, 439, 440, 441, 442, 443, 444, 445, 446, 447, 448, 449, 450, 452, 453, 455, 456, 457, 458, 459, 460, 461, 462, 463, 464, 465, 466, 467, 468, 469, 470, 472, 473, 474, 475, 476, 477, 478, 480, 483, 484, 485, 486, 487, 488, 489, 490, 491, 492, 493, 494, 495, 497, 498, 499, 500, 502, 503, 504, 505, 506, 507, 508, 509, 510, 511, 512, 513, 514, 515, 516, 517, 518, 521, 522, 523, 524, 525, 526, 528, 529, 530, 531, 532, 534, 535, 536, 538, 539, 540, 541, 542, 543, 544, 545, 546, 548, 549, 550, 551, 552, 553, 554, 555, 556, 557, 558, 559, 560, 562, 563, 564, 565, 566, 567, 568, 569, 570, 571, 572, 573, 574, 575, 577, 578, 580, 581, 582, 583, 585, 586, 587, 588, 589, 590, 591, 592, 593, 594, 595, 596, 597, 598, 599, 600, 601, 602, 603, 604, 605, 606, 607, 609, 611, 612, 613, 614, 615, 616, 617, 618, 619, 620, 621, 622, 623, 624, 625, 626, 627, 628, 629, 631, 632, 633, 634, 635, 636, 637, 638, 639, 640, 641, 643, 644, 646, 647, 648, 649, 650, 651, 652, 653, 654, 656, 657, 659, 661, 662, 665, 666, 667, 668, 670, 671, 673, 674, 675, 676, 677, 678, 679, 680, 681, 682, 683, 684, 686, 687, 688, 689, 690, 691, 692, 693, 694, 695, 696, 697, 698, 699, 700, 701, 702, 703, 704, 705, 707, 709, 712, 713, 715, 716, 717, 718, 720, 721, 723, 724, 725, 726, 727, 728, 729, 730, 731, 732, 733, 734, 735, 736, 737, 738, 739, 740, 741, 742, 744, 745, 746, 747, 748, 749, 750, 751, 754, 755, 757, 758, 759, 760, 761, 762, 763, 765, 766, 767, 768, 769, 770, 771, 772, 773, 774, 775, 776, 777, 778, 779, 780, 781, 782, 783, 784, 785, 786, 787, 788, 789, 790, 791, 792, 793, 794, 795, 796, 797, 798, 799, 800, 801, 802, 803, 804, 805, 806, 807, 808, 809, 810, 811, 816, 818, 819, 820, 821, 823, 825, 826, 827, 828, 829, 830, 831, 832, 833, 834, 835, 836, 837, 838, 839, 840, 841, 842, 843, 844, 845, 847, 848, 849, 850, 851, 852, 853, 856, 857, 858, 859, 860, 861, 862, 863, 865, 866, 867, 868, 869, 870, 871, 872, 873, 874, 875, 876, 877, 878, 879, 880, 881, 882, 883, 884, 885, 886, 887, 890, 891, 892, 893, 894, 895, 896, 897, 898, 899, 900, 901, 902, 903, 904, 905, 906, 907, 908, 909, 910, 911, 912, 914, 915, 917, 918, 919, 922, 923, 924, 925, 926, 927, 928, 929, 930, 931, 932, 934, 935, 936, 937, 938, 939, 940, 942, 943, 944, 945, 946, 948, 949, 950, 951, 952, 953, 954, 955, 956, 957, 959, 960, 961, 962, 963, 964, 965, 966, 967, 968, 969, 970, 971, 972, 973, 974, 975, 976, 977, 980, 985, 986, 987, 988, 989, 990, 991, 992, 993, 994, 995, 996, 997, 998, 999, 1001, 1002, 1003, 1004, 1005, 1006, 1007, 1008, 1009, 1010, 1011, 1012, 1013, 1014, 1015, 1016, 1017, 1018, 1019, 1022, 1024, 1025, 1026, 1027, 1028, 1030, 1031, 1032, 1033, 1034, 1035, 1036, 1037, 1038, 1039, 1040, 1041, 1042, 1043, 1044, 1045, 1046, 1047, 1048, 1049, 1050, 1051, 1052, 1053, 1054, 1055, 1056, 1057, 1059, 1060, 1061, 1062, 1064, 1065, 1067, 1068, 1069, 1070, 1071, 1072, 1073, 1074, 1075, 1076, 1077, 1078, 1079, 1080, 1081, 1082, 1083, 1084, 1085, 1086, 1087, 1088, 1089, 1090, 1091, 1092, 1093, 1094, 1095, 1096, 1098, 1099, 1100, 1101, 1102, 1103, 1104, 1105, 1106, 1107, 1108, 1109, 1110, 1111, 1113, 1114, 1117, 1118, 1119, 1121, 1122, 1123, 1124, 1125, 1126, 1127, 1128, 1129, 1130, 1131, 1132]\n",
            "Number of documents matched: 996\n",
            "No. of comparisons required: 2122\n"
          ]
        }
      ]
    },
    {
      "cell_type": "code",
      "source": [
        "np.array(df.iloc[lists]['name'])"
      ],
      "metadata": {
        "colab": {
          "base_uri": "https://localhost:8080/"
        },
        "id": "O2ADIMyilyLu",
        "outputId": "83592b34-3d01-41ad-f60c-e5175b6d984e"
      },
      "execution_count": null,
      "outputs": [
        {
          "output_type": "execute_result",
          "data": {
            "text/plain": [
              "array(['1st_aid.txt', 'a_fish_c.apo', 'a_tv_t-p.com', 'abbott.txt',\n",
              "       'acetab1.txt', 'acne1.txt', 'acronym.txt', 'adameve.hum',\n",
              "       'adcopy.hum', 'addrmeri.txt', 'admin.txt', 'adrian_e.faq',\n",
              "       'ads.txt', 'adt_miam.txt', 'advrtize.txt', 'aeonint.txt',\n",
              "       'age.txt', 'aggie.txt', 'airlines', 'alabama.txt', 'alcatax.txt',\n",
              "       'alcohol.hum', 'alflog.txt', 'all_grai', 'allusion', 'ambrose.bie',\n",
              "       'amchap2.txt', 'analogy.hum', 'aniherb.txt', 'anim_lif.txt',\n",
              "       'anime.lif', 'annoy.fascist', 'anorexia.txt', 'answers',\n",
              "       'anthropo.stu', 'antibiot.txt', 'antimead.bev', 'aphrodis.txt',\n",
              "       'appbred.brd', 'appetiz.rcp', 'applepie.des', 'apsaucke.des',\n",
              "       'apsnet.txt', 'arab.dic', 'arcadian.txt', 'argotdic.txt',\n",
              "       'arnold.txt', 'art-fart.hum', 'arthriti.txt', 'atherosc.txt',\n",
              "       'atombomb.hum', 'att.txt', 'aussie.lng', 'avengers.lis',\n",
              "       'awespinh.sal', 'ayurved.txt', 'b12.txt', 'b-2.jok', 'back1.txt',\n",
              "       'bad', 'bad-d', 'bad.jok', 'badday.hum', 'bagelope.txt',\n",
              "       'bakebred.txt', 'baklava.des', 'banana01.brd', 'banana02.brd',\n",
              "       'banana03.brd', 'banana04.brd', 'banana05.brd', 'bank.rob',\n",
              "       'barney.cn1', 'basehead.txt', 'batrbred.txt', 'bb', 'bbc_vide.cat',\n",
              "       'bbq.txt', 'beapimp.hum', 'beave.hum', 'beer-g', 'beer-gui',\n",
              "       'beer.gam', 'beer.hum', 'beer.txt', 'beerdiag.txt', 'beergame.hum',\n",
              "       'beergame.txt', 'beerjesus.hum', 'beershrm.fis', 'beershrp.fis',\n",
              "       'beerwarn.txt', 'beesherb.txt', 'beginn.ers', 'berryeto.bev',\n",
              "       'bhang.fun', 'bhb.ill', 'bible.txt', 'bigpic1.hum', 'billcat.hum',\n",
              "       'bimg.prn', 'bingbong.hum', 'bitchcar.hum', 'blackapp.hum',\n",
              "       'blackhol.hum', 'blake7.lis', 'blaster.hum', 'bless.bc',\n",
              "       'blkbean.txt', 'blkbnsrc.vgn', 'blood.txt', 'blooprs1.asc',\n",
              "       'bmdn01.txt', 'bnb_quot.txt', 'boarchil.txt', 'boatmemo.jok',\n",
              "       'boe.hum', 'bond-2.txt', 'booknuti.txt', 'booze1.fun',\n",
              "       'booze2.fun', 'booze.fun', 'bored.txt', 'boston.geog',\n",
              "       'bozo_tv.leg', 'brainect.hum', 'brdpudd.des', 'bread.rec',\n",
              "       'bread.txt', 'breadpud.des', 'bredcake.des', 'browneco.hum',\n",
              "       'brownie.rec', 'brush1.txt', 'btaco.txt', 'btcisfre.hum',\n",
              "       'btscke01.des', 'btscke02.des', 'btscke03.des', 'btscke04.des',\n",
              "       'btscke05.des', 'buffwing.pol', 'bugbreak.hum', 'bugs.txt',\n",
              "       'buldrwho.txt', 'bunacald.fis', 'burrito.mea', 'butcher.txt',\n",
              "       'butstcod.fis', 'butwrong.hum', 'buzzword.hum', 'bw-phwan.hat',\n",
              "       'bw-summe.hat', 'bw.txt', 'byfb.txt', 'c0dez.txt', 'cabbage.txt',\n",
              "       'caesardr.sal', 'cake.rec', 'calamus.hrb', 'calculus.txt',\n",
              "       'calif.hum', 'calvin.txt', 'cancer.rat', 'candybar.fun',\n",
              "       'capital.txt', 'caramels.des', 'cartoon.law', 'cartoon.laws',\n",
              "       'cartoon_.txt', 'cartoon_laws.txt', 'cartwb.son', 'cast.lis',\n",
              "       'catballs.hum', 'catin.hat', 'catranch.hum', 'catstory.txt',\n",
              "       'cbmatic.hum', 'cereal.txt', 'cform2.txt', 'cgs_lst.txt',\n",
              "       'chainltr.txt', 'change.hum', 'charity.hum', 'cheapfar.hum',\n",
              "       'cheapin.la', 'chickenheadbbs.txt', 'chickens.jok', 'chickens.txt',\n",
              "       'childhoo.jok', 'childrenbooks.txt', 'chili.txt', 'chinese.txt',\n",
              "       'chinesec.hum', 'choco-ch.ips', 'christop.int', 'chung.iv',\n",
              "       'chunnel.txt', 'church.sto', 'clancy.txt', 'classicm.hum',\n",
              "       'climbing.let', 'cmu.share', 'co-car.jok', 'cockney.alp',\n",
              "       'coffee.faq', 'coffee.txt', 'coffeebeerwomen.txt', 'cogdis.txt',\n",
              "       'coke1', 'coke.fun', 'coke.txt', 'coke_fan.naz', 'cokeform.txt',\n",
              "       'coladrik.fun', 'coladrik.txt', 'cold.fus', 'coldfake.hum',\n",
              "       'college.hum', 'college.sla', 'college.txt', 'computer.txt',\n",
              "       'comrevi1.hum', 'conan.txt', 'confucius_say.txt', 'contract.moo',\n",
              "       'cookberk', 'cookbkly.how', 'cooking.fun', 'cooking.jok',\n",
              "       'coollngo2.txt', 'cooplaws', 'cops.txt', 'corporat.txt',\n",
              "       'court.quips', 'cowexplo.hum', 'coyote.txt', 'crazy.txt',\n",
              "       'critic.txt', 'crzycred.lst', 'cucumber.jok', 'cucumber.txt',\n",
              "       'cuisine.txt', 'curiousgeorgie.txt', 'curry.hrb', 'curry.txt',\n",
              "       'curse.txt', 'cybrtrsh.txt', 'd-ned.hum', 'dalive', 'damiana.hrb',\n",
              "       'dandwine.bev', 'dark.suc', 'dead4.txt', 'dead-r',\n",
              "       'deadlysins.txt', 'deathhem.txt', 'deep.txt', 'defectiv.hum',\n",
              "       'desk.txt', 'deterior.hum', 'devils.jok', 'diesmurf.txt',\n",
              "       'diet.txt', 'dieter.txt', 'dingding.hum', 'disaster.hum',\n",
              "       'doc-says.txt', 'docdict.txt', 'docspeak.txt', 'doggun.sto',\n",
              "       'donut.txt', 'dover.poem', 'draxamus.txt', 'drinker.txt',\n",
              "       'drinking.tro', 'drinkrul.jok', 'drinks.txt', 'dromes.txt',\n",
              "       'druggame.hum', 'drugshum.hum', 'drunk.txt', 'dthought.txt', 'dym',\n",
              "       'eandb.drx', 'earp', 'eatme.txt', 'econridl.fun', 'egg-bred.txt',\n",
              "       'egglentl.vgn', 'eggroll1.mea', 'electric.txt', 'element.jok',\n",
              "       'elephant.fun', 'elevator.fun', 'empeval.txt', 'engineer.hum',\n",
              "       'english', 'english.txt', 'engmuffn.txt', 'engrhyme.txt',\n",
              "       'enlightenment.txt', 'epi_merm.txt', 'epi_rns.txt', 'epi_tton.txt',\n",
              "       'epikarat.txt', 'epiquest.txt', 'episimp2.txt', 'epitaph',\n",
              "       'eskimo.nel', 'exam.50', 'excuse30.txt', 'exidy.txt', 'exylic.txt',\n",
              "       'f_tang.txt', 'facedeth.txt', 'failure.txt', 'fajitas.rcp',\n",
              "       'farsi.phrase', 'farsi.txt', 'fartinfo.txt', 'fartting.txt',\n",
              "       'fascist.txt', 'fbipizza.txt', 'fearcola.hum', 'fed.txt',\n",
              "       'fegg!int.txt', 'feggmagi.txt', 'feista01.dip', 'female.jok',\n",
              "       'fiber.txt', 'figure_1.txt', 'final-ex.txt', 'finalexm.hum',\n",
              "       'firecamp.txt', 'fireplacein.txt', 'firstaid.inf', 'firstaid.txt',\n",
              "       'fish.rec', 'flattax.hum', 'flowchrt', 'flowchrt.txt',\n",
              "       'focaccia.brd', 'food', 'foodtips', 'footfun.hum', 'forsooth.hum',\n",
              "       'free-cof.fee', 'freshman.hum', 'freudonseuss.txt', 'frogeye1.sal',\n",
              "       'fuck!.txt', 'fuckyou2.txt', 'fudge.txt', 'fusion.gal',\n",
              "       'fusion.sup', 'fwksfun.hum', 'gack!.txt', 'gaiahuma',\n",
              "       'gameshow.txt', 'ganamembers.txt', 'garlpast.vgn', 'gas.txt',\n",
              "       'gd_drwho.txt', 'gd_flybd.txt', 'gd_frasr.txt', 'gd_gal.txt',\n",
              "       'gd_guide.txt', 'gd_hhead.txt', 'gd_liqtv.txt', 'gd_maxhd.txt',\n",
              "       'gd_ol.txt', 'gd_sgrnd.txt', 'german.aut', 'get.drunk.cheap',\n",
              "       'ghostfun.hum', 'ghostsch.hum', 'gingbeer.txt', 'girlspeak.txt',\n",
              "       'godmonth.txt', 'goforth.hum', 'gohome.hum', 'goldwatr.txt',\n",
              "       'golnar.txt', 'good.txt', 'gotukola.hrb', 'gown.txt', 'grail.txt',\n",
              "       'grammar.jok', 'greenchi.txt', 'grommet.hum', 'grospoem.txt',\n",
              "       'growth.txt', 'gumbo.txt', 'hack', 'hack7.txt',\n",
              "       'hackingcracking.txt', 'hacktest.txt', 'hamburge.nam',\n",
              "       'hangover.txt', 'happyhack.txt', 'harmful.hum', 'hate.hum',\n",
              "       'hbo_spec.rev', 'headlnrs', 'hecomes.jok', 'hedgehog.txt',\n",
              "       'height.txt', 'hell.jok', 'hell.txt', 'herb!.hum', 'hermsys.txt',\n",
              "       'heroic.txt', 'hi.tec', 'hierarch.txt', 'hilbilly.wri',\n",
              "       'history2.oop', 'hitchcoc.app', 'hitchcok.txt', 'hitler.59',\n",
              "       'hitler.txt', 'hitlerap.txt', 'homermmm.txt', 'hop.faq',\n",
              "       'horflick.txt', 'horoscop.jok', 'horoscop.txt', 'horoscope.txt',\n",
              "       'hotel.txt', 'hotnnot.hum', 'hotpeper.txt', 'how2bgod.txt',\n",
              "       'how2dotv.txt', 'how.bugs.breakd', 'how_to_i.pro', 'howlong.hum',\n",
              "       'htswfren.txt', 'hum2', 'humatra.txt', 'humatran.jok',\n",
              "       'humpty.dumpty', 'iced.tea', 'icm.hum', 'idaho.txt', 'idr2.txt',\n",
              "       'imbecile.txt', 'imprrisk.hum', 'impurmat.hum', 'incarhel.hum',\n",
              "       'indgrdn.txt', 'initials.rid', 'inlaws1.txt', 'inquirer.txt',\n",
              "       'ins1', 'insanity.hum', 'insect1.txt', 'insult', 'insuranc.sty',\n",
              "       'insure.hum', 'interv.hum', 'investi.hum', 'iqtest', 'iremember',\n",
              "       'italoink.txt', 'ivan.hum', 'jac&tuu.hum', 'jalapast.dip',\n",
              "       'jambalay.pol', 'japice.bev', 'japrap.hum', 'jargon.phd',\n",
              "       'jawgumbo.fis', 'jawsalad.fis', 'jayjay.txt', 'jc-elvis.inf',\n",
              "       'jeffie.heh', 'jerky.rcp', 'jimhood.txt', 'johann', 'jokeju07.txt',\n",
              "       'jokes1.txt', 'jokes.txt', 'jon.txt', 'jrrt.riddle',\n",
              "       'jungjuic.bev', 'just2', 'justify', 'kaboom.hum', 'kanalx.txt',\n",
              "       'kashrut.txt', 'kid2', 'kid_diet.txt', 'killer.hum', 'kilroy',\n",
              "       'kilsmur.hum', 'kloo.txt', 'koans.txt', 'la_times.hun',\n",
              "       'labels.txt', 'lampoon.jok', 'languag.jok', 'lansing.txt',\n",
              "       'law.sch', 'lawhunt.txt', 'laws.txt', 'lawskool.txt',\n",
              "       'lawsuniv.hum', 'lawyers.txt', 'lazarus.txt', 'leech.txt',\n",
              "       'legal.hum', 'let.go', 'letgosh.txt', 'letter_f.sch',\n",
              "       'letterbx.txt', 'libraway.txt', 'liceprof.sty', 'lif&love.hum',\n",
              "       'lifeimag.hum', 'lifeinfo.hum', 'lifeonledge.txt', 'limerick.jok',\n",
              "       'lines.jok', 'lion.jok', 'lion.txt', 'lions.cat', 'lipkovits.txt',\n",
              "       'livnware.hum', 'llamas.txt', 'lll.hum', 'llong.hum',\n",
              "       'lobquad.hum', 'looser.hum', 'losers84.hum', 'losers86.hum',\n",
              "       'lost.txt', 'lozers', 'lozeuser.hum', 'lp-assoc.txt', 'lucky.cha',\n",
              "       'ludeinfo.hum', 'ludeinfo.txt', 'luggage.hum', 'luvstory.txt',\n",
              "       'luzerzo2.hum', 'm0dzmen.hum', 'macsfarm.old', 'madhattr.jok',\n",
              "       'madscrib.hum', 'maecenas.hum', 'mailfrag.hum', 'makebeer.hum',\n",
              "       'making_y.wel', 'malechem.txt', 'manager.txt', 'manilla.hum',\n",
              "       'manspace.hum', 'margos.txt', 'marines.hum', 'marriage.hum',\n",
              "       'mash.hum', 'math.1', 'math.2', 'math.far', 'maxheadr', 'mcd.txt',\n",
              "       'mead.rcp', 'meinkamp.hum', 'mel.txt', 'memo.hum', 'memory.hum',\n",
              "       'men&wome.txt', 'mensroom.jok', 'merry.txt', 'miamadvi.hum',\n",
              "       'miami.hum', 'miamimth.txt', 'middle.age', 'minn.txt',\n",
              "       'miranda.hum', 'misery.hum', 'missheav.hum', 'mitch.txt',\n",
              "       'modest.hum', 'modstup', 'mog-history', 'montoys.txt', 'moonshin',\n",
              "       'moore.txt', 'moslem.txt', 'mothers.txt', 'motrbike.jok',\n",
              "       'mov_rail.txt', 'mowers.txt', 'mr.rogers', 'mrscienc.hum',\n",
              "       'mrsfield', 'msfields.txt', 'msorrow', 'mtm.hum', 'mtv.asc',\n",
              "       'murph.jok', 'murphy.txt', 'murphy_l.txt', 'murphys.txt',\n",
              "       'mutate.hum', 'mydaywss.hum', 'myheart.hum', 'naivewiz.hum',\n",
              "       'namaste.txt', 'nameisreo.txt', 'namm', 'nasaglenn.txt',\n",
              "       'necropls.txt', 'netmask.txt', 'netnews.10', 'newcoke.txt',\n",
              "       'newconst.hum', 'newmex.hum', 'news.hum', 'nigel10.txt', 'nigel.2',\n",
              "       'nigel.4', 'nigel.7', 'nigel.10', 'nintendo.jok', 'normal.boy',\n",
              "       'normalboy.txt', 'normquot.txt', 'novel.hum', 'nuke.hum',\n",
              "       'nukewar.jok', 'nukewar.txt', 'nukwaste', 'number',\n",
              "       'number.killer', 'number_k.ill', 'nurds.hum', 'nysucks.hum',\n",
              "       'nzdrinks.txt', 'o-ttalk.hum', 'oakwood.txt', 'oam-001.txt',\n",
              "       'oam.nfo', 'oasis', 'oatbran.rec', 'oculis.rcp', 'odd_to.obs',\n",
              "       'odearakk.hum', 'office.txt', 'ohandre.hum', 'old.txt',\n",
              "       'oldeng.hum', 'oldtime.sng', 'oldtime.txt', 'oliver02.txt',\n",
              "       'oliver.txt', 'onan.txt', 'one.par', 'ookpik.hum', 'opinion.hum',\n",
              "       'oranchic.pol', 'orgfrost.bev', 'ourfathr.txt', 'outawork.erl',\n",
              "       'outlimit.txt', 'oxymoron.jok', 'oxymoron.txt', 'p-law.hum',\n",
              "       'packard.txt', 'paddingurpapers.txt', 'parabl.hum', 'parades.hum',\n",
              "       'parsnip.txt', 'passage.hum', 'passenge.sim', 'pasta001.sal',\n",
              "       'pat.txt', 'pbcookie.des', 'peanuts.txt', 'peatchp.hum',\n",
              "       'pecker.txt', 'penisprt.txt', 'penndtch', 'pepper.txt',\n",
              "       'pepsideg.txt', 'petshop', 'phony.hum', 'phorse.hum',\n",
              "       'phunatdi.ana', 'phxbbs-m.txt', 'pickup.lin', 'pickup.txt',\n",
              "       'pipespec.txt', 'pizzawho.hum', 'planeget.hum', 'planetzero.txt',\n",
              "       'poets.hum', 'pol-corr.txt', 'polemom.txt', 'poli.tics',\n",
              "       'poli_t.ics', 'policpig.hum', 'poll2res.hum', 'polly.txt',\n",
              "       'polly_.new', 'poopie.txt', 'popconc.hum', 'popmach',\n",
              "       'popmusi.hum', 'post.nuc', 'pot.txt', 'potty.txt', 'pournell.spo',\n",
              "       'ppbeer.txt', 'pracjoke.txt', 'prawblim.hum', 'prayer.hum',\n",
              "       'primes.jok', 'princess.brd', 'problem.txt', 'proof.met',\n",
              "       'prooftec.txt', 'proposal.jok', 'proudlyserve.txt', 'prover.wisom',\n",
              "       'prover_w.iso', 'psalm23.txt', 'psalm.reagan', 'psalm_nixon',\n",
              "       'psalm_re.aga', 'psilaine.hum', 'psych_pr.quo', 'psycho.txt',\n",
              "       'pukeprom.jok', 'pun.txt', 'pure.mat', 'puzzle.spo', 'puzzles.jok',\n",
              "       'python_s.ong', 'q.pun', 'qttofu.vgn', 'quantity.001',\n",
              "       'quantum.jok', 'quantum.phy', 'quest.hum', 'quick.jok',\n",
              "       'quotes.bug', 'quotes.jok', 'rabbit.txt', 'racist.net',\n",
              "       'radexposed.txt', 'radiolaf.hum', 'rapmastr.hum', 'ratings.hum',\n",
              "       'ratspit.hum', 'raven.hum', 'reagan.hum', 'realest.txt',\n",
              "       'reasons.txt', 'rec.por', 'recepies.fun', 'recip1.txt',\n",
              "       'recipe.001', 'recipe.002', 'recipe.003', 'recipe.004',\n",
              "       'recipe.005', 'recipe.006', 'recipe.007', 'recipe.008',\n",
              "       'recipe.009', 'recipe.010', 'recipe.011', 'recipe.012',\n",
              "       'reconcil.hum', 'record_.gap', 'red-neck.jks', 'reddwarf.sng',\n",
              "       'reddye.hum', 'relative.ada', 'religion.txt', 'renored.txt',\n",
              "       'renorthr.txt', 'rent-a_cat', 'rentals.hum', 'repair.hum',\n",
              "       'report.hum', 'research.hum', 'residncy.jok', 'resolutn.txt',\n",
              "       'resrch_p.hra', 'resrch_phrase', 'revolt.dj', 'richbred.txt',\n",
              "       'rinaldo.jok', 'rinaldos.law', 'rinaldos.txt', 'ripoffpc.hum',\n",
              "       'rns_bcl.txt', 'rns_bwl.txt', 'rns_ency.txt', 'roach.asc',\n",
              "       'robot.tes', 'rocking.hum', 'sanshop.txt', 'saveface.hum',\n",
              "       'sawyer.txt', 'seafood.txt', 'seeds42.txt', 'sf-zine.pub',\n",
              "       'sfmovie.txt', 'shameonu.hum', 'shooters.txt', 'shorties.jok',\n",
              "       'shrink.news', 'shuimai.txt', 'shuttleb.hum', 'signatur.jok',\n",
              "       'silverclaws.txt', 'simp.txt', 'sinksub.txt', 'skincat',\n",
              "       'skippy.hum', 'skippy.txt', 'slogans.txt', 'smartass.txt',\n",
              "       'smiley.txt', 'smokers.txt', 'smurf-03.txt', 'smurf_co.txt',\n",
              "       'smurfs.cc', 'snapple.rum', 'snipe.txt', 'soccer.txt',\n",
              "       'socecon.hum', 'social.hum', 'socks.drx', 'solders.hum',\n",
              "       'soleleer.hum', 'solviets.hum', 'soporifi.abs', 'sorority.gir',\n",
              "       'spacever.hum', 'spelin_r.ifo', 'speling.msk', 'spider.hum',\n",
              "       'spoonlis.txt', 'spydust.hum', 'squids.gph', 'st_silic.txt',\n",
              "       'staff.txt', 'stagline.txt', 'standard.hum', 'startrek.txt',\n",
              "       'stereo.txt', 'steroid.txt', 'stone.hum', 'strattma.txt',\n",
              "       'stressman.txt', 'studentb.txt', 'suicide2.txt', 'sungenu.hum',\n",
              "       'supermar.rul', 'sw_err.txt', 'swearfrn.hum', 'symbol.hum',\n",
              "       'sysadmin.txt', 'sysman.txt', 't-10.hum', 't-shirt.hum',\n",
              "       't_zone.jok', 'takenote.jok', 'talebeat.hum', 'talkbizr.txt',\n",
              "       'taping.hum', 'teens.txt', 'teevee.hum', 'telecom.q',\n",
              "       'televisi.hum', 'televisi.txt', 'temphell.jok', 'terbear.txt',\n",
              "       'termpoem.txt', 'terms.hum', \"terrmcd'.hum\", 'terrnieg.hum',\n",
              "       'test2.jok', 'test.hum', 'test.jok', 'testchri.txt', 'texbeef.txt',\n",
              "       'texican.dic', 'texican.lex', 'textgrap.hum', 'the_ant.txt',\n",
              "       'thecube.hum', 'thermite.ana', 'thesis.beh', 'thievco.txt',\n",
              "       'three.txt', 'tickmoon.hum', 'timetr.hum', 'tnd.1', 'top10.elf',\n",
              "       'top10.txt', 'top10st1.txt', 'top10st2.txt', 'topten.hum',\n",
              "       'toxcwast.hum', 'tpquote2.txt', 'tpquotes.txt', 'transp.txt',\n",
              "       'trekfume.txt', 'trekwes.hum', 'tribble.hum', 'trukdeth.txt',\n",
              "       'truthlsd.hum', 'truths.hum', 'tshirts.jok', 'tuflife.txt',\n",
              "       'tuna.lab', 'turbo.hum', 'turing.shr', 'turkey.fun',\n",
              "       'twilight.txt', 'twinkie.txt', 'twinkies.jok', 'twinpeak.txt',\n",
              "       'un.happy', 'units.mea', 'univ.odd', 'unochili.txt',\n",
              "       'vaguemag.90s', 'valujet.txt', 'variety2.asc', 'variety3.asc',\n",
              "       'various.txt', 'vegan.rcp', 'vegkill.txt', 'venganza.txt',\n",
              "       'venison.txt', 'voltron.hum', 'vonthomp', 'wacky.ani', 'wagit.txt',\n",
              "       'wagon.hum', 'waitress.txt', 'washroom.txt', 'watchlip.hum',\n",
              "       'wedding.hum', 'weight.txt', 'weights.hum', 'welfare',\n",
              "       'welfare.txt', 'wetdream.hum', 'whatbbs', 'whatthe.hum',\n",
              "       'whitbred.txt', 'who.txt', 'whoon1st.hum', 'whoops.hum',\n",
              "       'why-me.hum', 'widows', 'wimptest.txt', 'wisdom', 'wkrp.epi',\n",
              "       'women.jok', 'wonton.txt', 'wood', 'woodbine.txt', 'woodbugs.txt',\n",
              "       'woods.txt', 'woodsmok.txt', 'woolly_m.amm', 'word.hum',\n",
              "       'worldend.hum', 'wrdnws1.txt', 'wrdnws2.txt', 'wrdnws4.txt',\n",
              "       'wrdnws5.txt', 'wrdnws8.txt', 'wrdnws9.txt', 'x-drinks.txt',\n",
              "       'xtermin8.hum', 'y.txt', 'yjohncse.hum', 'yogisays.txt',\n",
              "       'yogurt.asc', 'yuban.txt', 'yuppies.hum', 'zen.txt',\n",
              "       'zgtoilet.txt', 'zodiac.hum', 'zucantom.sal', 'zuccmush.sal'],\n",
              "      dtype=object)"
            ]
          },
          "metadata": {},
          "execution_count": 49
        }
      ]
    },
    {
      "cell_type": "code",
      "source": [
        "N = int(input())\n",
        "phrase = str(input())\n",
        "command = str(input()).split(' ')\n",
        "lists = execute_query(phrase, command)\n",
        "np.array(df.iloc[lists]['name'])"
      ],
      "metadata": {
        "id": "5rqYW-TwlyJX",
        "colab": {
          "base_uri": "https://localhost:8080/"
        },
        "outputId": "5955f0ee-551d-4688-964f-75ba6f7e360a"
      },
      "execution_count": null,
      "outputs": [
        {
          "output_type": "stream",
          "name": "stdout",
          "text": [
            "1\n",
            "metaphysical\n",
            "\n",
            "Documents: {537, 1071, 630, 391}\n",
            "Number of documents matched: 4\n",
            "No. of comparisons required: 0\n"
          ]
        },
        {
          "output_type": "execute_result",
          "data": {
            "text/plain": [
              "array(['jason.fun', 'vegkill.txt', 'manners.txt', 'flux_fix.txt'],\n",
              "      dtype=object)"
            ]
          },
          "metadata": {},
          "execution_count": 50
        }
      ]
    },
    {
      "cell_type": "code",
      "source": [
        ""
      ],
      "metadata": {
        "id": "eA6S3_zjlow1"
      },
      "execution_count": null,
      "outputs": []
    },
    {
      "cell_type": "code",
      "source": [
        ""
      ],
      "metadata": {
        "id": "Gm6c7Rcwlop9"
      },
      "execution_count": null,
      "outputs": []
    }
  ],
  "metadata": {
    "colab": {
      "name": "IR_Assignment.ipynb",
      "provenance": [],
      "collapsed_sections": []
    },
    "kernelspec": {
      "display_name": "Python 3",
      "name": "python3"
    },
    "language_info": {
      "name": "python"
    }
  },
  "nbformat": 4,
  "nbformat_minor": 0
}